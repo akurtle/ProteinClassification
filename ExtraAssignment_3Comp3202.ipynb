{
  "nbformat": 4,
  "nbformat_minor": 0,
  "metadata": {
    "colab": {
      "provenance": []
    },
    "kernelspec": {
      "name": "python3",
      "display_name": "Python 3"
    },
    "language_info": {
      "name": "python"
    }
  },
  "cells": [
    {
      "cell_type": "code",
      "source": [
        "pip install bio"
      ],
      "metadata": {
        "colab": {
          "base_uri": "https://localhost:8080/"
        },
        "id": "8ln6Jnp9uaQl",
        "outputId": "a9404486-2738-414f-e510-1d7373c25b4a"
      },
      "execution_count": null,
      "outputs": [
        {
          "output_type": "stream",
          "name": "stdout",
          "text": [
            "Collecting bio\n",
            "  Downloading bio-1.6.2-py3-none-any.whl (278 kB)\n",
            "\u001b[2K     \u001b[90m━━━━━━━━━━━━━━━━━━━━━━━━━━━━━━━━━━━━━━━━\u001b[0m \u001b[32m278.6/278.6 kB\u001b[0m \u001b[31m4.0 MB/s\u001b[0m eta \u001b[36m0:00:00\u001b[0m\n",
            "\u001b[?25hCollecting biopython>=1.80 (from bio)\n",
            "  Downloading biopython-1.83-cp310-cp310-manylinux_2_17_x86_64.manylinux2014_x86_64.whl (3.1 MB)\n",
            "\u001b[2K     \u001b[90m━━━━━━━━━━━━━━━━━━━━━━━━━━━━━━━━━━━━━━━━\u001b[0m \u001b[32m3.1/3.1 MB\u001b[0m \u001b[31m14.0 MB/s\u001b[0m eta \u001b[36m0:00:00\u001b[0m\n",
            "\u001b[?25hRequirement already satisfied: requests in /usr/local/lib/python3.10/dist-packages (from bio) (2.31.0)\n",
            "Requirement already satisfied: tqdm in /usr/local/lib/python3.10/dist-packages (from bio) (4.66.2)\n",
            "Collecting mygene (from bio)\n",
            "  Downloading mygene-3.2.2-py2.py3-none-any.whl (5.4 kB)\n",
            "Requirement already satisfied: pandas in /usr/local/lib/python3.10/dist-packages (from bio) (1.5.3)\n",
            "Requirement already satisfied: pooch in /usr/local/lib/python3.10/dist-packages (from bio) (1.8.1)\n",
            "Collecting gprofiler-official (from bio)\n",
            "  Downloading gprofiler_official-1.0.0-py3-none-any.whl (9.3 kB)\n",
            "Requirement already satisfied: numpy in /usr/local/lib/python3.10/dist-packages (from biopython>=1.80->bio) (1.25.2)\n",
            "Collecting biothings-client>=0.2.6 (from mygene->bio)\n",
            "  Downloading biothings_client-0.3.1-py2.py3-none-any.whl (29 kB)\n",
            "Requirement already satisfied: python-dateutil>=2.8.1 in /usr/local/lib/python3.10/dist-packages (from pandas->bio) (2.8.2)\n",
            "Requirement already satisfied: pytz>=2020.1 in /usr/local/lib/python3.10/dist-packages (from pandas->bio) (2023.4)\n",
            "Requirement already satisfied: platformdirs>=2.5.0 in /usr/local/lib/python3.10/dist-packages (from pooch->bio) (4.2.0)\n",
            "Requirement already satisfied: packaging>=20.0 in /usr/local/lib/python3.10/dist-packages (from pooch->bio) (24.0)\n",
            "Requirement already satisfied: charset-normalizer<4,>=2 in /usr/local/lib/python3.10/dist-packages (from requests->bio) (3.3.2)\n",
            "Requirement already satisfied: idna<4,>=2.5 in /usr/local/lib/python3.10/dist-packages (from requests->bio) (3.6)\n",
            "Requirement already satisfied: urllib3<3,>=1.21.1 in /usr/local/lib/python3.10/dist-packages (from requests->bio) (2.0.7)\n",
            "Requirement already satisfied: certifi>=2017.4.17 in /usr/local/lib/python3.10/dist-packages (from requests->bio) (2024.2.2)\n",
            "Requirement already satisfied: six>=1.5 in /usr/local/lib/python3.10/dist-packages (from python-dateutil>=2.8.1->pandas->bio) (1.16.0)\n"
          ]
        }
      ]
    },
    {
      "cell_type": "code",
      "source": [
        "pip install scikit-bio"
      ],
      "metadata": {
        "id": "OLTT8gv-cgIu"
      },
      "execution_count": null,
      "outputs": []
    },
    {
      "cell_type": "code",
      "execution_count": null,
      "metadata": {
        "id": "MOUFvoCQaAQM"
      },
      "outputs": [],
      "source": [
        "import pandas as pd\n",
        "import numpy as np\n",
        "import matplotlib.pyplot as plt\n",
        "import seaborn as sns\n",
        "from pprint import pprint\n",
        "from skbio import Sequence,DNA\n",
        "from sklearn.metrics import roc_auc_score,roc_curve,precision_recall_curve,average_precision_score,auc"
      ]
    },
    {
      "cell_type": "markdown",
      "source": [],
      "metadata": {
        "id": "lu8O_tI0e420"
      }
    },
    {
      "cell_type": "code",
      "source": [
        "df = pd.read_csv(\"Assign3.tsv\",delimiter=\"\\t\")"
      ],
      "metadata": {
        "id": "SI2n04FJaITS"
      },
      "execution_count": null,
      "outputs": []
    },
    {
      "cell_type": "code",
      "source": [
        "df"
      ],
      "metadata": {
        "id": "DoBtd56xbiHY"
      },
      "execution_count": null,
      "outputs": []
    },
    {
      "cell_type": "code",
      "source": [
        "sns.countplot(data=df,x=df.columns[1])"
      ],
      "metadata": {
        "id": "OONUnel7e6bX"
      },
      "execution_count": null,
      "outputs": []
    },
    {
      "cell_type": "markdown",
      "source": [
        "As we can see that it is a skewed distribution with majority being 0"
      ],
      "metadata": {
        "id": "4HD_j7OMfK-H"
      }
    },
    {
      "cell_type": "markdown",
      "source": [
        "Using 2 mer frequency encoding"
      ],
      "metadata": {
        "id": "cfJPzweGpHlA"
      }
    },
    {
      "cell_type": "code",
      "source": [
        "def dnaAdder(dna,dnaclass,k):\n",
        "  for i in range(len(df)):\n",
        "    temp=[]\n",
        "    s=DNA(df.loc[i,df.columns[0]])\n",
        "    freqs=s.kmer_frequencies(k,relative=True)\n",
        "    dna.append(freqs)\n",
        "    dnaclass.append(df.loc[i,df.columns[1]])\n"
      ],
      "metadata": {
        "id": "axM-ZiKR16hb"
      },
      "execution_count": null,
      "outputs": []
    },
    {
      "cell_type": "code",
      "source": [
        "dna=[]\n",
        "dna_class=[]\n",
        "dnaAdder(dna,dna_class,2)"
      ],
      "metadata": {
        "id": "d2Ku9vFJd-Ox"
      },
      "execution_count": null,
      "outputs": []
    },
    {
      "cell_type": "code",
      "source": [
        "dna"
      ],
      "metadata": {
        "id": "UPUyGEdg6mPT"
      },
      "execution_count": null,
      "outputs": []
    },
    {
      "cell_type": "code",
      "source": [
        "dict_dna ={\"DNA\":dna,\"Class\":dna_class}"
      ],
      "metadata": {
        "id": "xK9skXuVs1jq"
      },
      "execution_count": null,
      "outputs": []
    },
    {
      "cell_type": "code",
      "source": [
        "df_encoded=pd.DataFrame(dict_dna)"
      ],
      "metadata": {
        "id": "JNw94JD6tKsM"
      },
      "execution_count": null,
      "outputs": []
    },
    {
      "cell_type": "code",
      "source": [
        "df_encoded"
      ],
      "metadata": {
        "id": "WkWOstz3tOO8"
      },
      "execution_count": null,
      "outputs": []
    },
    {
      "cell_type": "code",
      "source": [
        "df_test = pd.DataFrame(df_encoded)"
      ],
      "metadata": {
        "id": "IbuJ-QnZuJ4Z"
      },
      "execution_count": null,
      "outputs": []
    },
    {
      "cell_type": "code",
      "source": [
        "df_test"
      ],
      "metadata": {
        "id": "KHBv2NgvuOM-"
      },
      "execution_count": null,
      "outputs": []
    },
    {
      "cell_type": "markdown",
      "source": [
        "Using regular kmer_frequency to encode the data"
      ],
      "metadata": {
        "id": "rbsiyNrG46np"
      }
    },
    {
      "cell_type": "code",
      "source": [
        "df_dna_kmer = pd.DataFrame(dna)"
      ],
      "metadata": {
        "id": "xzwrwKlSuPse"
      },
      "execution_count": null,
      "outputs": []
    },
    {
      "cell_type": "code",
      "source": [
        "df_dna_kmer=df_dna_kmer.join(df_test)"
      ],
      "metadata": {
        "id": "R5YmvFZeuYGp"
      },
      "execution_count": null,
      "outputs": []
    },
    {
      "cell_type": "code",
      "source": [
        "df_dna_kmer"
      ],
      "metadata": {
        "id": "YnVnIiKNxq2M"
      },
      "execution_count": null,
      "outputs": []
    },
    {
      "cell_type": "code",
      "source": [
        "df_dna_kmer=df_dna_kmer.fillna(0)"
      ],
      "metadata": {
        "id": "GWO9fBIgyihU"
      },
      "execution_count": null,
      "outputs": []
    },
    {
      "cell_type": "code",
      "source": [
        "df_dna_kmer.isnull().values.sum()"
      ],
      "metadata": {
        "id": "NZUiShbh0Z87"
      },
      "execution_count": null,
      "outputs": []
    },
    {
      "cell_type": "code",
      "source": [
        "X_2 = df_dna_kmer.iloc[:,:-2].values\n",
        "y_2 = df_dna_kmer.iloc[:,-1].values"
      ],
      "metadata": {
        "id": "UQC0dhJxx4jn"
      },
      "execution_count": null,
      "outputs": []
    },
    {
      "cell_type": "code",
      "source": [
        "print(X_2)"
      ],
      "metadata": {
        "id": "UpF5Mtjq004i"
      },
      "execution_count": null,
      "outputs": []
    },
    {
      "cell_type": "code",
      "source": [
        "from sklearn.ensemble import RandomForestClassifier"
      ],
      "metadata": {
        "id": "Lmh9uX1ttcwx"
      },
      "execution_count": null,
      "outputs": []
    },
    {
      "cell_type": "code",
      "source": [
        "forestClass=RandomForestClassifier(class_weight=\"balanced\")"
      ],
      "metadata": {
        "id": "F7Eh007Otu0w"
      },
      "execution_count": null,
      "outputs": []
    },
    {
      "cell_type": "code",
      "source": [
        "from sklearn.model_selection import StratifiedKFold\n",
        "\n",
        "Skf= StratifiedKFold(n_splits=10,shuffle=True)\n"
      ],
      "metadata": {
        "id": "sDYU9AsUt1W5"
      },
      "execution_count": null,
      "outputs": []
    },
    {
      "cell_type": "code",
      "source": [
        "from sklearn.metrics import f1_score"
      ],
      "metadata": {
        "id": "0tMt5cP80Brh"
      },
      "execution_count": null,
      "outputs": []
    },
    {
      "cell_type": "code",
      "source": [
        "def scores(scoresArr,X,y,model):\n",
        "    for train_index,test_index in Skf.split(X,y):\n",
        "      X_train,X_test=X[train_index],X[test_index]\n",
        "      y_train,y_test=y[train_index],y[test_index]\n",
        "      model.fit(X_train,y_train)\n",
        "      y_predForest=model.predict(X_test)\n",
        "      scores_forest_kmer = f1_score(y_pred=y_predForest,y_true=y_test)\n",
        "      scoresArr.append(scores_forest_kmer)"
      ],
      "metadata": {
        "id": "sHh6wy_VougN"
      },
      "execution_count": null,
      "outputs": []
    },
    {
      "cell_type": "code",
      "source": [
        "scoresarr_forest_kmer=[]\n",
        "model_forest_2mer = RandomForestClassifier(class_weight=\"balanced\")\n",
        "scores(scoresarr_forest_kmer,X_2,y_2,model_forest_2mer)"
      ],
      "metadata": {
        "id": "lPXjuoGf2wh0"
      },
      "execution_count": null,
      "outputs": []
    },
    {
      "cell_type": "code",
      "source": [
        "scoresarr_forest_kmer"
      ],
      "metadata": {
        "id": "2bJoq4v10SIj"
      },
      "execution_count": null,
      "outputs": []
    },
    {
      "cell_type": "code",
      "source": [
        "print(sum(scoresarr_forest_kmer)/len(scoresarr_forest_kmer))"
      ],
      "metadata": {
        "id": "-KYVe0Gv1BT0"
      },
      "execution_count": null,
      "outputs": []
    },
    {
      "cell_type": "markdown",
      "source": [
        "Using RC Kmer frequency for encoding"
      ],
      "metadata": {
        "id": "kIABViaA5iKf"
      }
    },
    {
      "cell_type": "code",
      "source": [
        "df_to_add=pd.DataFrame(dict_dna)"
      ],
      "metadata": {
        "id": "tKIYFxic5xOK"
      },
      "execution_count": null,
      "outputs": []
    },
    {
      "cell_type": "code",
      "source": [
        "def dnaAdderRc(dna,dnaclass,freq):\n",
        "  for i in range(len(df)):\n",
        "    temp=[]\n",
        "    s=DNA(df.loc[i,df.columns[0]])\n",
        "    s=s.reverse_complement()\n",
        "    freqs=s.kmer_frequencies(freq,relative=True)\n",
        "    dna.append(freqs)\n",
        "    dnaclass.append(df.loc[i,df.columns[1]])\n"
      ],
      "metadata": {
        "id": "RsH8obdt663_"
      },
      "execution_count": null,
      "outputs": []
    },
    {
      "cell_type": "code",
      "source": [
        "dna_rc=[]\n",
        "dna_rc_class=[]\n",
        "dnaAdderRc(dna_rc,dna_rc_class,2)"
      ],
      "metadata": {
        "id": "SAxEQxVB7O8B"
      },
      "execution_count": null,
      "outputs": []
    },
    {
      "cell_type": "code",
      "source": [
        "dict_rc_dna={\"DNA\":dna_rc,\"Class\":dna_rc_class}"
      ],
      "metadata": {
        "id": "Aohe86Z-5Zq3"
      },
      "execution_count": null,
      "outputs": []
    },
    {
      "cell_type": "code",
      "source": [
        "df_dna_rc = pd.DataFrame(dna_rc)"
      ],
      "metadata": {
        "id": "4bS2lIrG62v3"
      },
      "execution_count": null,
      "outputs": []
    },
    {
      "cell_type": "code",
      "source": [
        "df_dna_rc"
      ],
      "metadata": {
        "id": "_L9A0sWf-yrk"
      },
      "execution_count": null,
      "outputs": []
    },
    {
      "cell_type": "code",
      "source": [
        "df_dna_rc=df_dna_rc.fillna(0)"
      ],
      "metadata": {
        "id": "0j9gYKI8-zij"
      },
      "execution_count": null,
      "outputs": []
    },
    {
      "cell_type": "code",
      "source": [
        "df_dna_rc=df_dna_rc.join(pd.DataFrame(dict_rc_dna))"
      ],
      "metadata": {
        "id": "X6Xfs6rp-2La"
      },
      "execution_count": null,
      "outputs": []
    },
    {
      "cell_type": "code",
      "source": [
        "df_dna_rc"
      ],
      "metadata": {
        "id": "b-vpoY84_hif"
      },
      "execution_count": null,
      "outputs": []
    },
    {
      "cell_type": "code",
      "source": [
        "X_rc = df_dna_rc.iloc[:,:-2].values\n",
        "y_rc = df_dna_rc.iloc[:,-1].values"
      ],
      "metadata": {
        "id": "_FmzZldq_Oaw"
      },
      "execution_count": null,
      "outputs": []
    },
    {
      "cell_type": "code",
      "source": [
        "scores_rc_forest=[]\n",
        "\n",
        "model_forest_rc = RandomForestClassifier(class_weight='balanced')\n",
        "\n",
        "scores(scores_rc_forest,X_rc,y_rc,model_forest_rc)"
      ],
      "metadata": {
        "id": "_Muj7-zC-925"
      },
      "execution_count": null,
      "outputs": []
    },
    {
      "cell_type": "code",
      "source": [
        "scores_rc_forest"
      ],
      "metadata": {
        "id": "fDQIzHc1_4gF"
      },
      "execution_count": null,
      "outputs": []
    },
    {
      "cell_type": "code",
      "source": [
        "sum(scores_rc_forest)/10"
      ],
      "metadata": {
        "id": "Gy5A5QXe_558"
      },
      "execution_count": null,
      "outputs": []
    },
    {
      "cell_type": "markdown",
      "source": [
        "Using 3 Mer frequency Encoding"
      ],
      "metadata": {
        "id": "Tm6Z8F-vjYka"
      }
    },
    {
      "cell_type": "code",
      "source": [
        "dna_3=[]\n",
        "dna_class_3=[]\n",
        "dnaAdder(dna_3,dna_class_3,3)"
      ],
      "metadata": {
        "id": "bWRZ4yv1iqwd"
      },
      "execution_count": null,
      "outputs": []
    },
    {
      "cell_type": "code",
      "source": [
        "dict_dna_3 = {\"DNA\":dna_3,\"Class\":dna_class_3}"
      ],
      "metadata": {
        "id": "XzGgBGLhi8tw"
      },
      "execution_count": null,
      "outputs": []
    },
    {
      "cell_type": "code",
      "source": [
        "df_dna_3_mer = pd.DataFrame(dict_dna_3)"
      ],
      "metadata": {
        "id": "OCIAzFGcjBmr"
      },
      "execution_count": null,
      "outputs": []
    },
    {
      "cell_type": "code",
      "source": [
        "df_dna_3_mer"
      ],
      "metadata": {
        "id": "gGFpo2sHjGZP"
      },
      "execution_count": null,
      "outputs": []
    },
    {
      "cell_type": "code",
      "source": [
        "df_dna_3mer = pd.DataFrame(dna_3)"
      ],
      "metadata": {
        "id": "2JymVEPJjp3c"
      },
      "execution_count": null,
      "outputs": []
    },
    {
      "cell_type": "code",
      "source": [
        "df_dna_3mer = df_dna_3mer.join(df_dna_3_mer)"
      ],
      "metadata": {
        "id": "Phod5d40jrpl"
      },
      "execution_count": null,
      "outputs": []
    },
    {
      "cell_type": "code",
      "source": [
        "df_dna_3mer"
      ],
      "metadata": {
        "id": "oHqsBsCRjvlS"
      },
      "execution_count": null,
      "outputs": []
    },
    {
      "cell_type": "code",
      "source": [
        "df_dna_3mer=df_dna_3mer.fillna(0)"
      ],
      "metadata": {
        "id": "vXKF0MrMjybP"
      },
      "execution_count": null,
      "outputs": []
    },
    {
      "cell_type": "code",
      "source": [
        "X_3 = df_dna_3mer.iloc[:,:-2].values\n",
        "y_3 = df_dna_3mer.iloc[:,-1].values"
      ],
      "metadata": {
        "id": "yo4y4bRSj7v5"
      },
      "execution_count": null,
      "outputs": []
    },
    {
      "cell_type": "code",
      "source": [
        "scores_3_forest=[]\n",
        "\n",
        "model_forest_3mer= RandomForestClassifier(class_weight=\"balanced\")\n",
        "\n",
        "scores(scores_3_forest,X_3,y_3,model_forest_3mer)"
      ],
      "metadata": {
        "id": "V5pOR7OPkDj8"
      },
      "execution_count": null,
      "outputs": []
    },
    {
      "cell_type": "code",
      "source": [
        "print(scores_3_forest)"
      ],
      "metadata": {
        "id": "-jniNp8BpfOe"
      },
      "execution_count": null,
      "outputs": []
    },
    {
      "cell_type": "code",
      "source": [
        "sum(scores_3_forest)/10"
      ],
      "metadata": {
        "id": "yMkS7AEjpiNI"
      },
      "execution_count": null,
      "outputs": []
    },
    {
      "cell_type": "code",
      "source": [
        "def draw_cv_roc_curve(classifier, cv, X, y, title='ROC Curve'):\n",
        "    \"\"\"\n",
        "    Draw a Cross Validated ROC Curve.\n",
        "    Args:\n",
        "        classifier: Classifier Object\n",
        "        cv: StratifiedKFold Object: (https://stats.stackexchange.com/questions/49540/understanding-stratified-cross-validation)\n",
        "        X: Feature Pandas DataFrame\n",
        "        y: Response Pandas Series\n",
        "    Example largely taken from http://scikit-learn.org/stable/auto_examples/model_selection/plot_roc_crossval.html#sphx-glr-auto-examples-model-selection-plot-roc-crossval-py\n",
        "    \"\"\"\n",
        "    # Creating ROC Curve with Cross Validation\n",
        "    tprs = []\n",
        "    aucs = []\n",
        "    mean_fpr = np.linspace(0, 1, 100)\n",
        "\n",
        "    i = 0\n",
        "    for train, test in cv.split(X, y):\n",
        "        probas_ = classifier.fit(X[train], y[train]).predict_proba(X[test])\n",
        "        # Compute ROC curve and area the curve\n",
        "        fpr, tpr, thresholds = roc_curve(y[test], probas_[:, 1])\n",
        "        tprs.append(np.interp(mean_fpr, fpr, tpr))\n",
        "\n",
        "        tprs[-1][0] = 0.0\n",
        "        roc_auc = auc(fpr, tpr)\n",
        "        aucs.append(roc_auc)\n",
        "        plt.plot(fpr, tpr, lw=1, alpha=0.3,\n",
        "                 label='ROC fold %d (AUC = %0.2f)' % (i, roc_auc))\n",
        "\n",
        "        i += 1\n",
        "    plt.plot([0, 1], [0, 1], linestyle='--', lw=2, color='r',\n",
        "             label='Luck', alpha=.8)\n",
        "\n",
        "    mean_tpr = np.mean(tprs, axis=0)\n",
        "    mean_tpr[-1] = 1.0\n",
        "    mean_auc = auc(mean_fpr, mean_tpr)\n",
        "    std_auc = np.std(aucs)\n",
        "    plt.plot(mean_fpr, mean_tpr, color='b',\n",
        "             label=r'Mean ROC (AUC = %0.2f $\\pm$ %0.2f)' % (mean_auc, std_auc),\n",
        "             lw=2, alpha=.8)\n",
        "\n",
        "    std_tpr = np.std(tprs, axis=0)\n",
        "    tprs_upper = np.minimum(mean_tpr + std_tpr, 1)\n",
        "    tprs_lower = np.maximum(mean_tpr - std_tpr, 0)\n",
        "    plt.fill_between(mean_fpr, tprs_lower, tprs_upper, color='grey', alpha=.2,\n",
        "                     label=r'$\\pm$ 1 std. dev.')\n",
        "\n",
        "    plt.xlim([-0.05, 1.05])\n",
        "    plt.ylim([-0.05, 1.05])\n",
        "    plt.xlabel('False Positive Rate')\n",
        "    plt.ylabel('True Positive Rate')\n",
        "    plt.title(title)\n",
        "    plt.legend(loc=\"lower right\")\n",
        "    plt.show()\n",
        "\n",
        "def draw_cv_pr_curve(classifier, cv, X, y, title='PR Curve'):\n",
        "    \"\"\"\n",
        "    Draw a Cross Validated PR Curve.\n",
        "    Keyword Args:\n",
        "        classifier: Classifier Object\n",
        "        cv: StratifiedKFold Object: (https://stats.stackexchange.com/questions/49540/understanding-stratified-cross-validation)\n",
        "        X: Feature Pandas DataFrame\n",
        "        y: Response Pandas Series\n",
        "\n",
        "    Largely taken from: https://stackoverflow.com/questions/29656550/how-to-plot-pr-curve-over-10-folds-of-cross-validation-in-scikit-learn\n",
        "    \"\"\"\n",
        "    y_real = []\n",
        "    y_proba = []\n",
        "\n",
        "    i = 0\n",
        "    for train, test in cv.split(X, y):\n",
        "        probas_ = classifier.fit(X[train], y[train]).predict_proba(X[test])\n",
        "        # Compute ROC curve and area the curve\n",
        "        precision, recall, _ = precision_recall_curve(y[test], probas_[:, 1])\n",
        "\n",
        "        # Plotting each individual PR Curve\n",
        "        plt.plot(recall, precision, lw=1, alpha=0.3,\n",
        "                 label='PR fold %d (AUC = %0.2f)' % (i, average_precision_score(y[test], probas_[:, 1])))\n",
        "\n",
        "        y_real.append(y[test])\n",
        "        y_proba.append(probas_[:, 1])\n",
        "\n",
        "        i += 1\n",
        "\n",
        "    y_real = np.concatenate(y_real)\n",
        "    y_proba = np.concatenate(y_proba)\n",
        "\n",
        "    precision, recall, _ = precision_recall_curve(y_real, y_proba)\n",
        "\n",
        "    plt.plot(recall, precision, color='b',\n",
        "             label=r'Precision-Recall (AUC = %0.2f)' % (average_precision_score(y_real, y_proba)),\n",
        "             lw=2, alpha=.8)\n",
        "\n",
        "    plt.xlim([-0.05, 1.05])\n",
        "    plt.ylim([-0.05, 1.05])\n",
        "    plt.xlabel('Recall')\n",
        "    plt.ylabel('Precision')\n",
        "    plt.title(title)\n",
        "    plt.legend(loc=\"lower right\")\n",
        "    plt.show()"
      ],
      "metadata": {
        "id": "DMyx1F36pyFT"
      },
      "execution_count": null,
      "outputs": []
    },
    {
      "cell_type": "markdown",
      "source": [
        "ROC curve for 3 mer frequency"
      ],
      "metadata": {
        "id": "Y-siyjjTq3w-"
      }
    },
    {
      "cell_type": "code",
      "source": [
        "draw_cv_roc_curve(classifier=model_forest_3mer,X=X_3,y=y_3,cv=Skf)"
      ],
      "metadata": {
        "id": "NMK60g0Xqdk5"
      },
      "execution_count": null,
      "outputs": []
    },
    {
      "cell_type": "markdown",
      "source": [
        "ROC curve for RC 2 mer frequency"
      ],
      "metadata": {
        "id": "ySOc8TQCs5vo"
      }
    },
    {
      "cell_type": "code",
      "source": [
        "draw_cv_roc_curve(classifier=model_forest_rc,X=X_rc,y=y_rc,cv=Skf)"
      ],
      "metadata": {
        "id": "9n4Qq3FirrUa"
      },
      "execution_count": null,
      "outputs": []
    },
    {
      "cell_type": "markdown",
      "source": [
        "ROC curve for 2 mer frequency"
      ],
      "metadata": {
        "id": "iaQeHLBwtIB4"
      }
    },
    {
      "cell_type": "code",
      "source": [
        "draw_cv_roc_curve(classifier=model_forest_rc,X=X_2,y=y_2,cv=Skf)"
      ],
      "metadata": {
        "id": "qlLud-ilsFXx"
      },
      "execution_count": null,
      "outputs": []
    }
  ]
}